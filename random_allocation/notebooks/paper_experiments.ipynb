{
 "cells": [
  {
   "cell_type": "code",
   "execution_count": 1,
   "metadata": {},
   "outputs": [
    {
     "ename": "ImportError",
     "evalue": "attempted relative import with no known parent package",
     "output_type": "error",
     "traceback": [
      "\u001b[0;31m---------------------------------------------------------------------------\u001b[0m",
      "\u001b[0;31mImportError\u001b[0m                               Traceback (most recent call last)",
      "Cell \u001b[0;32mIn[1], line 3\u001b[0m\n\u001b[1;32m      1\u001b[0m \u001b[38;5;28;01mimport\u001b[39;00m \u001b[38;5;21;01mnumpy\u001b[39;00m \u001b[38;5;28;01mas\u001b[39;00m \u001b[38;5;21;01mnp\u001b[39;00m\n\u001b[0;32m----> 3\u001b[0m \u001b[38;5;28;01mfrom\u001b[39;00m \u001b[38;5;21;01m.\u001b[39;00m\u001b[38;5;21;01m.\u001b[39;00m\u001b[38;5;21;01mcomparisons\u001b[39;00m\u001b[38;5;21;01m.\u001b[39;00m\u001b[38;5;21;01mdefinitions\u001b[39;00m \u001b[38;5;28;01mimport\u001b[39;00m \u001b[38;5;241m*\u001b[39m\n\u001b[1;32m      4\u001b[0m \u001b[38;5;28;01mfrom\u001b[39;00m \u001b[38;5;21;01m.\u001b[39;00m\u001b[38;5;21;01m.\u001b[39;00m\u001b[38;5;21;01mcomparisons\u001b[39;00m\u001b[38;5;21;01m.\u001b[39;00m\u001b[38;5;21;01mexperiments\u001b[39;00m \u001b[38;5;28;01mimport\u001b[39;00m calc_params\n\u001b[1;32m      5\u001b[0m \u001b[38;5;28;01mfrom\u001b[39;00m \u001b[38;5;21;01m.\u001b[39;00m\u001b[38;5;21;01m.\u001b[39;00m\u001b[38;5;21;01mcomparisons\u001b[39;00m\u001b[38;5;21;01m.\u001b[39;00m\u001b[38;5;21;01mvisualization\u001b[39;00m \u001b[38;5;28;01mimport\u001b[39;00m plot_combined_data, plot_as_table, plot_comparison\n",
      "\u001b[0;31mImportError\u001b[0m: attempted relative import with no known parent package"
     ]
    }
   ],
   "source": [
    "from random_allocation.comparisons.definitions import *\n",
    "from random_allocation.comparisons.experiments import calc_params\n",
    "from random_allocation.comparisons.visualization import plot_combined_data, plot_as_table, plot_comparison"
   ]
  },
  {
   "cell_type": "code",
   "execution_count": null,
   "metadata": {},
   "outputs": [],
   "source": [
    "params_dict_1 = {'x_var': SIGMA,\n",
    "                 'y_var': EPSILON,\n",
    "                 SIGMA: np.exp(np.linspace(np.log(0.2), np.log(5), 20)),\n",
    "                 DELTA: 1e-10,\n",
    "                 NUM_STEPS: 100_000,\n",
    "                 NUM_SELECTED: 1,\n",
    "                 NUM_EPOCHS: 1}\n",
    "\n",
    "config_dict_1 = {DISCRETIZATION: 1e-4,\n",
    "                 MIN_ALPHA: 2,\n",
    "                 MAX_ALPHA: 60}\n",
    "\n",
    "methods_list_1 = [LOCAL, POISSON_PLD, SHUFFLE, ALLOCATION_RDP, ALLOCATION_RDP_INV, ALLOCATION_ANALYTIC, ALLOCATION_DECOMPOSITION]\n",
    "\n",
    "experiment_data_1 = calc_params(params_dict_1, config_dict_1, methods_list_1)\n",
    "\n",
    "plot_combined_data(experiment_data_1, log_x_axis=True, log_y_axis=True)\n",
    "plot_as_table(experiment_data_1)"
   ]
  },
  {
   "cell_type": "code",
   "execution_count": null,
   "metadata": {},
   "outputs": [],
   "source": [
    "params_dict_2 = {'x_var': NUM_EPOCHS,\n",
    "                 'y_var': EPSILON,\n",
    "                 SIGMA: 1,\n",
    "                 DELTA: 1e-8,\n",
    "                 NUM_STEPS: 10_000,\n",
    "                 NUM_SELECTED: 1,\n",
    "                 NUM_EPOCHS: np.exp(np.linspace(np.log(1), np.log(1001), 10)).astype(int)}\n",
    "\n",
    "config_dict_2 = {DISCRETIZATION: 1e-4,\n",
    "                 MIN_ALPHA: 2,\n",
    "                 MAX_ALPHA: 60}\n",
    "\n",
    "methods_list_2 = [POISSON_RDP, ALLOCATION_RDP, ALLOCATION_RDP_INV, POISSON_PLD, ALLOCATION_DECOMPOSITION]\n",
    "\n",
    "experiment_data_2 = calc_params(params_dict_2, config_dict_2, methods_list_2)\n",
    "\n",
    "plot_comparison(experiment_data_2, log_x_axis=True, log_y_axis=False, format_x=lambda x, _: x,)\n",
    "plot_as_table(experiment_data_2)"
   ]
  }
 ],
 "metadata": {
  "kernelspec": {
   "display_name": "dp_env",
   "language": "python",
   "name": "python3"
  },
  "language_info": {
   "codemirror_mode": {
    "name": "ipython",
    "version": 3
   },
   "file_extension": ".py",
   "mimetype": "text/x-python",
   "name": "python",
   "nbconvert_exporter": "python",
   "pygments_lexer": "ipython3",
   "version": "3.12.4"
  }
 },
 "nbformat": 4,
 "nbformat_minor": 2
}
